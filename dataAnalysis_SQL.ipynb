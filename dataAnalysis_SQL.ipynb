{
 "cells": [
  {
   "cell_type": "markdown",
   "metadata": {},
   "source": [
    "# Project Description\n",
    "In this project, I will load csv file to sql database and make a connection to that database through pandas and make a query to extract some data. For this project I have used **PopSQL** editor. This project is just for my learning purpose. \n",
    "\n",
    "# About Dataset\n",
    "\"The name of the dataset is 'Online Retail'. This is a transnational data set which contains all the transactions occurring between 01/12/2010 and 09/12/2011 for a UK-based and registered non-store online retail.The company mainly sells unique all-occasion gifts. Many customers of the company are wholesalers.\"\n",
    "Source of the dataset: https://archive.ics.uci.edu/ml/machine-learning-databases/00352/"
   ]
  },
  {
   "cell_type": "markdown",
   "metadata": {},
   "source": [
    "# Needed Libraries"
   ]
  },
  {
   "cell_type": "code",
   "execution_count": 1,
   "metadata": {
    "ExecuteTime": {
     "end_time": "2021-08-29T11:39:28.682981Z",
     "start_time": "2021-08-29T11:39:27.294870Z"
    }
   },
   "outputs": [],
   "source": [
    "import pandas as pd\n",
    "import mysql.connector\n",
    "import re"
   ]
  },
  {
   "cell_type": "code",
   "execution_count": 2,
   "metadata": {
    "ExecuteTime": {
     "end_time": "2021-08-29T11:39:29.695957Z",
     "start_time": "2021-08-29T11:39:28.694422Z"
    }
   },
   "outputs": [],
   "source": [
    "df = pd.read_csv(\"/Users/shreesapkota/Documents/Integrify/SymLinkHDD/APPLE_HDD/Data/Online Retail.csv\",delimiter=';',)"
   ]
  },
  {
   "cell_type": "code",
   "execution_count": 3,
   "metadata": {
    "ExecuteTime": {
     "end_time": "2021-08-29T11:39:29.777752Z",
     "start_time": "2021-08-29T11:39:29.698845Z"
    }
   },
   "outputs": [
    {
     "data": {
      "text/html": [
       "<div>\n",
       "<style scoped>\n",
       "    .dataframe tbody tr th:only-of-type {\n",
       "        vertical-align: middle;\n",
       "    }\n",
       "\n",
       "    .dataframe tbody tr th {\n",
       "        vertical-align: top;\n",
       "    }\n",
       "\n",
       "    .dataframe thead th {\n",
       "        text-align: right;\n",
       "    }\n",
       "</style>\n",
       "<table border=\"1\" class=\"dataframe\">\n",
       "  <thead>\n",
       "    <tr style=\"text-align: right;\">\n",
       "      <th></th>\n",
       "      <th>InvoiceNo</th>\n",
       "      <th>StockCode</th>\n",
       "      <th>Description</th>\n",
       "      <th>Quantity</th>\n",
       "      <th>InvoiceDate</th>\n",
       "      <th>UnitPrice</th>\n",
       "      <th>CustomerID</th>\n",
       "      <th>Country</th>\n",
       "    </tr>\n",
       "  </thead>\n",
       "  <tbody>\n",
       "    <tr>\n",
       "      <th>0</th>\n",
       "      <td>536365</td>\n",
       "      <td>85123A</td>\n",
       "      <td>WHITE HANGING HEART T-LIGHT HOLDER</td>\n",
       "      <td>6</td>\n",
       "      <td>1.12.2010 8:26</td>\n",
       "      <td>2,55</td>\n",
       "      <td>17850.0</td>\n",
       "      <td>United Kingdom</td>\n",
       "    </tr>\n",
       "    <tr>\n",
       "      <th>1</th>\n",
       "      <td>536365</td>\n",
       "      <td>71053</td>\n",
       "      <td>WHITE METAL LANTERN</td>\n",
       "      <td>6</td>\n",
       "      <td>1.12.2010 8:26</td>\n",
       "      <td>3,39</td>\n",
       "      <td>17850.0</td>\n",
       "      <td>United Kingdom</td>\n",
       "    </tr>\n",
       "    <tr>\n",
       "      <th>2</th>\n",
       "      <td>536365</td>\n",
       "      <td>84406B</td>\n",
       "      <td>CREAM CUPID HEARTS COAT HANGER</td>\n",
       "      <td>8</td>\n",
       "      <td>1.12.2010 8:26</td>\n",
       "      <td>2,75</td>\n",
       "      <td>17850.0</td>\n",
       "      <td>United Kingdom</td>\n",
       "    </tr>\n",
       "    <tr>\n",
       "      <th>3</th>\n",
       "      <td>536365</td>\n",
       "      <td>84029G</td>\n",
       "      <td>KNITTED UNION FLAG HOT WATER BOTTLE</td>\n",
       "      <td>6</td>\n",
       "      <td>1.12.2010 8:26</td>\n",
       "      <td>3,39</td>\n",
       "      <td>17850.0</td>\n",
       "      <td>United Kingdom</td>\n",
       "    </tr>\n",
       "    <tr>\n",
       "      <th>4</th>\n",
       "      <td>536365</td>\n",
       "      <td>84029E</td>\n",
       "      <td>RED WOOLLY HOTTIE WHITE HEART.</td>\n",
       "      <td>6</td>\n",
       "      <td>1.12.2010 8:26</td>\n",
       "      <td>3,39</td>\n",
       "      <td>17850.0</td>\n",
       "      <td>United Kingdom</td>\n",
       "    </tr>\n",
       "  </tbody>\n",
       "</table>\n",
       "</div>"
      ],
      "text/plain": [
       "  InvoiceNo StockCode                          Description  Quantity  \\\n",
       "0    536365    85123A   WHITE HANGING HEART T-LIGHT HOLDER         6   \n",
       "1    536365     71053                  WHITE METAL LANTERN         6   \n",
       "2    536365    84406B       CREAM CUPID HEARTS COAT HANGER         8   \n",
       "3    536365    84029G  KNITTED UNION FLAG HOT WATER BOTTLE         6   \n",
       "4    536365    84029E       RED WOOLLY HOTTIE WHITE HEART.         6   \n",
       "\n",
       "      InvoiceDate UnitPrice  CustomerID         Country  \n",
       "0  1.12.2010 8:26      2,55     17850.0  United Kingdom  \n",
       "1  1.12.2010 8:26      3,39     17850.0  United Kingdom  \n",
       "2  1.12.2010 8:26      2,75     17850.0  United Kingdom  \n",
       "3  1.12.2010 8:26      3,39     17850.0  United Kingdom  \n",
       "4  1.12.2010 8:26      3,39     17850.0  United Kingdom  "
      ]
     },
     "execution_count": 3,
     "metadata": {},
     "output_type": "execute_result"
    }
   ],
   "source": [
    "df.head()"
   ]
  },
  {
   "cell_type": "markdown",
   "metadata": {},
   "source": [
    "# Data Cleaning and Processing\n",
    "I need to do a little bit of cleaning the data and change the datatypes which I will do as follows. "
   ]
  },
  {
   "cell_type": "markdown",
   "metadata": {},
   "source": [
    "SQL primary key index starts from 1. That is why I am changing the index here. "
   ]
  },
  {
   "cell_type": "code",
   "execution_count": 4,
   "metadata": {
    "ExecuteTime": {
     "end_time": "2021-08-29T11:39:29.817637Z",
     "start_time": "2021-08-29T11:39:29.802138Z"
    }
   },
   "outputs": [],
   "source": [
    "df.index = df.index+1"
   ]
  },
  {
   "cell_type": "code",
   "execution_count": 5,
   "metadata": {
    "ExecuteTime": {
     "end_time": "2021-08-29T11:39:30.179365Z",
     "start_time": "2021-08-29T11:39:29.826029Z"
    }
   },
   "outputs": [
    {
     "name": "stdout",
     "output_type": "stream",
     "text": [
      "<class 'pandas.core.frame.DataFrame'>\n",
      "RangeIndex: 541909 entries, 1 to 541909\n",
      "Data columns (total 8 columns):\n",
      " #   Column       Non-Null Count   Dtype  \n",
      "---  ------       --------------   -----  \n",
      " 0   InvoiceNo    541909 non-null  object \n",
      " 1   StockCode    541909 non-null  object \n",
      " 2   Description  540455 non-null  object \n",
      " 3   Quantity     541909 non-null  int64  \n",
      " 4   InvoiceDate  541909 non-null  object \n",
      " 5   UnitPrice    541909 non-null  object \n",
      " 6   CustomerID   406829 non-null  float64\n",
      " 7   Country      541909 non-null  object \n",
      "dtypes: float64(1), int64(1), object(6)\n",
      "memory usage: 33.1+ MB\n"
     ]
    }
   ],
   "source": [
    "df.info()"
   ]
  },
  {
   "cell_type": "markdown",
   "metadata": {
    "ExecuteTime": {
     "end_time": "2021-08-29T10:48:15.938156Z",
     "start_time": "2021-08-29T10:48:15.471415Z"
    }
   },
   "source": [
    "As we can see that CustomerID has many null values, so I will remove all the rows where CustomerID is null. "
   ]
  },
  {
   "cell_type": "code",
   "execution_count": 6,
   "metadata": {
    "ExecuteTime": {
     "end_time": "2021-08-29T11:39:30.877962Z",
     "start_time": "2021-08-29T11:39:30.223917Z"
    }
   },
   "outputs": [],
   "source": [
    "# Dropping all null values\n",
    "df.dropna(inplace=True)"
   ]
  },
  {
   "cell_type": "markdown",
   "metadata": {},
   "source": [
    "It is necessary to change the datatype of some columns. Hence, I will change them as follows. "
   ]
  },
  {
   "cell_type": "code",
   "execution_count": 7,
   "metadata": {
    "ExecuteTime": {
     "end_time": "2021-08-29T11:39:34.353239Z",
     "start_time": "2021-08-29T11:39:30.884525Z"
    }
   },
   "outputs": [],
   "source": [
    "# To datetime datatype\n",
    "df.InvoiceDate = pd.to_datetime(df.InvoiceDate,)"
   ]
  },
  {
   "cell_type": "markdown",
   "metadata": {},
   "source": [
    "If we check the UnitPrice column the strings are like \"2,15\" form. So, to convert this to float, I will change ',' to '.' and covert the datatype to float. "
   ]
  },
  {
   "cell_type": "code",
   "execution_count": 8,
   "metadata": {
    "ExecuteTime": {
     "end_time": "2021-08-29T11:39:35.214365Z",
     "start_time": "2021-08-29T11:39:34.355402Z"
    }
   },
   "outputs": [],
   "source": [
    "df.UnitPrice=[re.sub(',','.',string=i) for i in df.UnitPrice.values]"
   ]
  },
  {
   "cell_type": "code",
   "execution_count": 9,
   "metadata": {
    "ExecuteTime": {
     "end_time": "2021-08-29T11:39:35.363209Z",
     "start_time": "2021-08-29T11:39:35.217989Z"
    }
   },
   "outputs": [],
   "source": [
    "df.UnitPrice = df.UnitPrice.astype(float)"
   ]
  },
  {
   "cell_type": "code",
   "execution_count": 10,
   "metadata": {
    "ExecuteTime": {
     "end_time": "2021-08-29T11:39:35.578435Z",
     "start_time": "2021-08-29T11:39:35.410469Z"
    }
   },
   "outputs": [
    {
     "name": "stdout",
     "output_type": "stream",
     "text": [
      "<class 'pandas.core.frame.DataFrame'>\n",
      "Int64Index: 406829 entries, 1 to 541909\n",
      "Data columns (total 8 columns):\n",
      " #   Column       Non-Null Count   Dtype         \n",
      "---  ------       --------------   -----         \n",
      " 0   InvoiceNo    406829 non-null  object        \n",
      " 1   StockCode    406829 non-null  object        \n",
      " 2   Description  406829 non-null  object        \n",
      " 3   Quantity     406829 non-null  int64         \n",
      " 4   InvoiceDate  406829 non-null  datetime64[ns]\n",
      " 5   UnitPrice    406829 non-null  float64       \n",
      " 6   CustomerID   406829 non-null  float64       \n",
      " 7   Country      406829 non-null  object        \n",
      "dtypes: datetime64[ns](1), float64(2), int64(1), object(4)\n",
      "memory usage: 27.9+ MB\n"
     ]
    }
   ],
   "source": [
    "df.info()"
   ]
  },
  {
   "cell_type": "markdown",
   "metadata": {
    "ExecuteTime": {
     "end_time": "2021-08-28T19:52:02.885640Z",
     "start_time": "2021-08-28T19:52:02.878247Z"
    }
   },
   "source": [
    "Now, lets save the file into csv format so that we can load this file to sql server. "
   ]
  },
  {
   "cell_type": "code",
   "execution_count": 11,
   "metadata": {
    "ExecuteTime": {
     "end_time": "2021-08-29T11:39:40.201860Z",
     "start_time": "2021-08-29T11:39:35.590433Z"
    }
   },
   "outputs": [],
   "source": [
    "#df.to_csv('Online_Retail.csv')"
   ]
  },
  {
   "cell_type": "code",
   "execution_count": 12,
   "metadata": {
    "ExecuteTime": {
     "end_time": "2021-08-29T11:39:40.337175Z",
     "start_time": "2021-08-29T11:39:40.204773Z"
    }
   },
   "outputs": [
    {
     "name": "stdout",
     "output_type": "stream",
     "text": [
      "<class 'pandas.core.frame.DataFrame'>\n",
      "Int64Index: 406829 entries, 1 to 541909\n",
      "Data columns (total 8 columns):\n",
      " #   Column       Non-Null Count   Dtype         \n",
      "---  ------       --------------   -----         \n",
      " 0   InvoiceNo    406829 non-null  object        \n",
      " 1   StockCode    406829 non-null  object        \n",
      " 2   Description  406829 non-null  object        \n",
      " 3   Quantity     406829 non-null  int64         \n",
      " 4   InvoiceDate  406829 non-null  datetime64[ns]\n",
      " 5   UnitPrice    406829 non-null  float64       \n",
      " 6   CustomerID   406829 non-null  float64       \n",
      " 7   Country      406829 non-null  object        \n",
      "dtypes: datetime64[ns](1), float64(2), int64(1), object(4)\n",
      "memory usage: 27.9+ MB\n"
     ]
    }
   ],
   "source": [
    "df.info()"
   ]
  },
  {
   "cell_type": "markdown",
   "metadata": {},
   "source": [
    "# Create table first\n",
    "In the PopSQL, I will create a table first with all the columns names. I will also create an extra column to make it a primary key as I didn't find other columns fit for this role.\n",
    "\n",
    "Before loading the data into the database, I created table as below.\n",
    "\n",
    "CREATE TABLE Online_Retail (\n",
    "\n",
    "    Invoice_id INT AUTO_INCREMENT,     \n",
    "    InvoiceNo VARCHAR(15,\n",
    "    StockCode VARCHAR(6),   \n",
    "    Description VARCHAR(150),\n",
    "    Quantity INT,\n",
    "    InvoiceDate DATETIME,\n",
    "    UnitPrice FLOAT,\n",
    "    CustomerID FLOAT,\n",
    "    Country VARCHAR(22),\n",
    "    PRIMARY KEY(Invoice_id)\n",
    ");"
   ]
  },
  {
   "cell_type": "markdown",
   "metadata": {},
   "source": [
    "# Load csv file into the database\n",
    "I have the csv file saved in the local machine(saved in utf-8 separated by comma).I will load this file to the database. I have already created a database named 'my_database'. I used the following commands in the command line. "
   ]
  },
  {
   "cell_type": "markdown",
   "metadata": {},
   "source": [
    "#mysql -u root -p (start mysql with root user and password)\n",
    "#use my_database (name of the database)\n",
    "#show tables (shows all the tables that are created)\n",
    "\n",
    "**Loading the csv file into the table***\n",
    "\n",
    "#LOAD DATA LOCAL INFILE \"/Users/shreesapkota/Documents/Integrify/SymLinkHDD/APPLE_HDD/Data/Online Retail12.csv\" \n",
    "\n",
    "#INTO TABLE Online_Retail FIELDS TERMINATED BY ';' \n",
    "\n",
    "#LINES TERMINATED by '\\n' \n",
    "\n",
    "#IGNORE 1 LINES (Index_num, InvoiceNo, StockCode, Description, Quantity, InvoiceDate, UnitPrice, CustomerID, Country);\n",
    "\n",
    "**Error: \"Loading local data is disabled; this must be enabled on both the client and server sides\"**\n",
    "#set global local_infile=true\n",
    "\n",
    "#LOAD DATA LOCAL INFILE \"/Users/shreesapkota/Documents/Integrify/SymLinkHDD/APPLE_HDD/Data/Online Retail12.csv\" INTO TABLE Online_Retail \n",
    "FIELDS TERMINATED BY ';' \n",
    "LINES TERMINATED by '\\n' \n",
    "IGNORE 1 LINES (InvoiceNo, StockCode, Description, Quantity, InvoiceDate, UnitPrice, CustomerID, Country);"
   ]
  },
  {
   "cell_type": "markdown",
   "metadata": {},
   "source": [
    "Screenshot from commandline shown below when loading the data. "
   ]
  },
  {
   "cell_type": "markdown",
   "metadata": {
    "ExecuteTime": {
     "end_time": "2021-08-29T11:53:17.785954Z",
     "start_time": "2021-08-29T11:53:17.753018Z"
    }
   },
   "source": [
    "<img src=\"code_screenshot.png\"/>"
   ]
  },
  {
   "cell_type": "markdown",
   "metadata": {},
   "source": [
    "Image from PopSQL editor shown below. "
   ]
  },
  {
   "cell_type": "markdown",
   "metadata": {
    "ExecuteTime": {
     "end_time": "2021-08-29T12:01:08.915011Z",
     "start_time": "2021-08-29T12:01:08.901865Z"
    }
   },
   "source": [
    "<img src=\"a.png\" width=600 height=600 />"
   ]
  },
  {
   "cell_type": "markdown",
   "metadata": {},
   "source": [
    "# Connecting to sql server through python\n",
    "In order to make a connection to sql server, we need to install mysql-connector-python and we will do it as follows. "
   ]
  },
  {
   "cell_type": "code",
   "execution_count": null,
   "metadata": {
    "ExecuteTime": {
     "end_time": "2021-08-29T11:39:40.772546Z",
     "start_time": "2021-08-29T11:39:27.261Z"
    }
   },
   "outputs": [],
   "source": [
    "#!pip install mysql-connector-python"
   ]
  },
  {
   "cell_type": "markdown",
   "metadata": {
    "ExecuteTime": {
     "end_time": "2021-08-29T09:51:38.767150Z",
     "start_time": "2021-08-29T09:51:38.362812Z"
    }
   },
   "source": [
    "We wil now create a connection to our mysql server in order to connect to our database as shown as below. In the parameter, \"passwd=pw\", I have already defined my password in the variable name 'pw' "
   ]
  },
  {
   "cell_type": "code",
   "execution_count": 19,
   "metadata": {
    "ExecuteTime": {
     "end_time": "2021-08-29T12:04:17.566584Z",
     "start_time": "2021-08-29T12:04:17.472359Z"
    }
   },
   "outputs": [],
   "source": [
    "connection = mysql.connector.connect(host='localhost', user='root', passwd=pw, database='my_database')"
   ]
  },
  {
   "cell_type": "markdown",
   "metadata": {},
   "source": [
    "Now that we have created a connection to our database, we can use pandas to make sql query to our database as follows. Our table has more than 400 thousand rows in the database but we will send a query request for only 100 rows of data. "
   ]
  },
  {
   "cell_type": "markdown",
   "metadata": {},
   "source": [
    "# Querying first 100 rows"
   ]
  },
  {
   "cell_type": "code",
   "execution_count": 20,
   "metadata": {
    "ExecuteTime": {
     "end_time": "2021-08-29T12:04:24.764634Z",
     "start_time": "2021-08-29T12:04:24.503237Z"
    }
   },
   "outputs": [],
   "source": [
    "Only_100 = pd.read_sql_query(con = connection, sql=\"SELECT * FROM Online_Retail LIMIT 100\",index_col=\"Invoice_id\")"
   ]
  },
  {
   "cell_type": "code",
   "execution_count": 21,
   "metadata": {
    "ExecuteTime": {
     "end_time": "2021-08-29T12:04:27.856354Z",
     "start_time": "2021-08-29T12:04:27.790590Z"
    }
   },
   "outputs": [
    {
     "data": {
      "text/html": [
       "<div>\n",
       "<style scoped>\n",
       "    .dataframe tbody tr th:only-of-type {\n",
       "        vertical-align: middle;\n",
       "    }\n",
       "\n",
       "    .dataframe tbody tr th {\n",
       "        vertical-align: top;\n",
       "    }\n",
       "\n",
       "    .dataframe thead th {\n",
       "        text-align: right;\n",
       "    }\n",
       "</style>\n",
       "<table border=\"1\" class=\"dataframe\">\n",
       "  <thead>\n",
       "    <tr style=\"text-align: right;\">\n",
       "      <th></th>\n",
       "      <th>InvoiceNo</th>\n",
       "      <th>StockCode</th>\n",
       "      <th>Description</th>\n",
       "      <th>Quantity</th>\n",
       "      <th>InvoiceDate</th>\n",
       "      <th>UnitPrice</th>\n",
       "      <th>CustomerID</th>\n",
       "      <th>Country</th>\n",
       "    </tr>\n",
       "    <tr>\n",
       "      <th>Invoice_id</th>\n",
       "      <th></th>\n",
       "      <th></th>\n",
       "      <th></th>\n",
       "      <th></th>\n",
       "      <th></th>\n",
       "      <th></th>\n",
       "      <th></th>\n",
       "      <th></th>\n",
       "    </tr>\n",
       "  </thead>\n",
       "  <tbody>\n",
       "    <tr>\n",
       "      <th>1</th>\n",
       "      <td>536365</td>\n",
       "      <td>85123A</td>\n",
       "      <td>WHITE HANGING HEART T-LIGHT HOLDER</td>\n",
       "      <td>6</td>\n",
       "      <td>2010-01-12 08:26:00</td>\n",
       "      <td>2.55</td>\n",
       "      <td>17850.0</td>\n",
       "      <td>United Kingdom</td>\n",
       "    </tr>\n",
       "    <tr>\n",
       "      <th>2</th>\n",
       "      <td>536365</td>\n",
       "      <td>71053</td>\n",
       "      <td>WHITE METAL LANTERN</td>\n",
       "      <td>6</td>\n",
       "      <td>2010-01-12 08:26:00</td>\n",
       "      <td>3.39</td>\n",
       "      <td>17850.0</td>\n",
       "      <td>United Kingdom</td>\n",
       "    </tr>\n",
       "    <tr>\n",
       "      <th>3</th>\n",
       "      <td>536365</td>\n",
       "      <td>84406B</td>\n",
       "      <td>CREAM CUPID HEARTS COAT HANGER</td>\n",
       "      <td>8</td>\n",
       "      <td>2010-01-12 08:26:00</td>\n",
       "      <td>2.75</td>\n",
       "      <td>17850.0</td>\n",
       "      <td>United Kingdom</td>\n",
       "    </tr>\n",
       "    <tr>\n",
       "      <th>4</th>\n",
       "      <td>536365</td>\n",
       "      <td>84029G</td>\n",
       "      <td>KNITTED UNION FLAG HOT WATER BOTTLE</td>\n",
       "      <td>6</td>\n",
       "      <td>2010-01-12 08:26:00</td>\n",
       "      <td>3.39</td>\n",
       "      <td>17850.0</td>\n",
       "      <td>United Kingdom</td>\n",
       "    </tr>\n",
       "    <tr>\n",
       "      <th>5</th>\n",
       "      <td>536365</td>\n",
       "      <td>84029E</td>\n",
       "      <td>RED WOOLLY HOTTIE WHITE HEART.</td>\n",
       "      <td>6</td>\n",
       "      <td>2010-01-12 08:26:00</td>\n",
       "      <td>3.39</td>\n",
       "      <td>17850.0</td>\n",
       "      <td>United Kingdom</td>\n",
       "    </tr>\n",
       "  </tbody>\n",
       "</table>\n",
       "</div>"
      ],
      "text/plain": [
       "           InvoiceNo StockCode                          Description  Quantity  \\\n",
       "Invoice_id                                                                      \n",
       "1             536365    85123A   WHITE HANGING HEART T-LIGHT HOLDER         6   \n",
       "2             536365     71053                  WHITE METAL LANTERN         6   \n",
       "3             536365    84406B       CREAM CUPID HEARTS COAT HANGER         8   \n",
       "4             536365    84029G  KNITTED UNION FLAG HOT WATER BOTTLE         6   \n",
       "5             536365    84029E       RED WOOLLY HOTTIE WHITE HEART.         6   \n",
       "\n",
       "                   InvoiceDate  UnitPrice  CustomerID         Country  \n",
       "Invoice_id                                                             \n",
       "1          2010-01-12 08:26:00       2.55     17850.0  United Kingdom  \n",
       "2          2010-01-12 08:26:00       3.39     17850.0  United Kingdom  \n",
       "3          2010-01-12 08:26:00       2.75     17850.0  United Kingdom  \n",
       "4          2010-01-12 08:26:00       3.39     17850.0  United Kingdom  \n",
       "5          2010-01-12 08:26:00       3.39     17850.0  United Kingdom  "
      ]
     },
     "execution_count": 21,
     "metadata": {},
     "output_type": "execute_result"
    }
   ],
   "source": [
    "Only_100.head()"
   ]
  },
  {
   "cell_type": "markdown",
   "metadata": {},
   "source": [
    "# Conclusion\n",
    "This was my first attempt to create a database, load data to database and connect the database through python. It was successfull. "
   ]
  }
 ],
 "metadata": {
  "kernelspec": {
   "display_name": "Python 3",
   "language": "python",
   "name": "python3"
  },
  "language_info": {
   "codemirror_mode": {
    "name": "ipython",
    "version": 3
   },
   "file_extension": ".py",
   "mimetype": "text/x-python",
   "name": "python",
   "nbconvert_exporter": "python",
   "pygments_lexer": "ipython3",
   "version": "3.8.3"
  },
  "toc": {
   "base_numbering": 1,
   "nav_menu": {},
   "number_sections": true,
   "sideBar": true,
   "skip_h1_title": false,
   "title_cell": "Table of Contents",
   "title_sidebar": "Contents",
   "toc_cell": false,
   "toc_position": {},
   "toc_section_display": true,
   "toc_window_display": true
  }
 },
 "nbformat": 4,
 "nbformat_minor": 4
}
